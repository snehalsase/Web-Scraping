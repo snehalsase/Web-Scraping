{
 "cells": [
  {
   "cell_type": "code",
   "execution_count": 1,
   "id": "23c46f81",
   "metadata": {},
   "outputs": [],
   "source": [
    "import requests\n",
    "import bs4\n",
    "from bs4 import BeautifulSoup\n",
    "import pandas as pd\n",
    "import time\n",
    "import numpy as np\n",
    "import csv"
   ]
  },
  {
   "cell_type": "code",
   "execution_count": 2,
   "id": "5a6b5d94",
   "metadata": {},
   "outputs": [],
   "source": [
    "headers = {'User-Agent': \"Mozilla/5.0 (Windows NT 10.0; Win64; x64) AppleWebKit/537.36 (KHTML, like Gecko) Chrome/96.0.4664.45 Safari/537.36\"}\n",
    "URL = \"https://www.imdb.com/list/ls055592025/\"\n",
    "\n",
    "\n",
    "#conducting a request of the stated URL above:\n",
    "response = requests.get(URL, headers)\n",
    "#specifying a desired format of “page” using the html parser - this allows python to read the various components of the page, rather than treating it as one long string.\n",
    "soup = BeautifulSoup(response.content, 'html.parser')\n",
    "#printing soup in a more structured tree format that makes for easier reading\n",
    "\n"
   ]
  },
  {
   "cell_type": "code",
   "execution_count": 6,
   "id": "64a5f67a",
   "metadata": {},
   "outputs": [],
   "source": [
    "movie_name = []\n",
    "year_release = []\n",
    "runtime = []\n",
    "movie_rating = []\n",
    "votes = []\n",
    "gross = []\n"
   ]
  },
  {
   "cell_type": "code",
   "execution_count": 7,
   "id": "8996b262",
   "metadata": {},
   "outputs": [],
   "source": [
    "def extract_movie_data(soup): \n",
    "    divs = soup.find_all('div', class_ = \"lister-item mode-detail\")\n",
    "    \n",
    "    for div in divs:\n",
    "        name = div.h3.a.text\n",
    "        movie_name.append(name)\n",
    "        \n",
    "        year = div.h3.find('span', class_ = 'lister-item-year text-muted unbold').text.replace(\"(\", '').replace(\")\", '')\n",
    "        year_release.append(year)\n",
    "        \n",
    "        time = div.p.find('span', class_ = 'runtime').text\n",
    "        runtime.append(time)\n",
    "        \n",
    "        rating = div.find('span', class_ = 'ipl-rating-star__rating').text\n",
    "        movie_rating.append(rating)\n",
    "        \n",
    "        values = div.find_all('span', attrs = {'name' : 'nv'})\n",
    "        \n",
    "        vote = values[0].text\n",
    "        votes.append(vote)\n",
    "        \n",
    "        gro = values[1].text if len(values)>1 else '****'\n",
    "        gross.append(gro) \n",
    "    movieData = pd.DataFrame({'Movie Name':movie_name,'Year of Release':year_release, 'Duration':runtime, 'Ratings':movie_rating, 'Votes':votes, 'Gross':gross})\n",
    "   \n",
    "    \n",
    "    return movieData,len(divs)\n",
    "\n",
    "\n",
    "movie_data, length = extract_movie_data(soup)\n",
    "\n",
    "\n",
    "filename = \"IMDb_Info.csv\"\n",
    "\n",
    "movie_data.to_csv(filename)\n",
    "    "
   ]
  },
  {
   "cell_type": "code",
   "execution_count": null,
   "id": "d746a0f7",
   "metadata": {},
   "outputs": [],
   "source": [
    "\n",
    "    "
   ]
  },
  {
   "cell_type": "code",
   "execution_count": null,
   "id": "1e6913ed",
   "metadata": {},
   "outputs": [],
   "source": [
    "\n",
    "\n",
    "\n"
   ]
  },
  {
   "cell_type": "code",
   "execution_count": null,
   "id": "be59a8e9",
   "metadata": {},
   "outputs": [],
   "source": []
  }
 ],
 "metadata": {
  "kernelspec": {
   "display_name": "Python 3",
   "language": "python",
   "name": "python3"
  },
  "language_info": {
   "codemirror_mode": {
    "name": "ipython",
    "version": 3
   },
   "file_extension": ".py",
   "mimetype": "text/x-python",
   "name": "python",
   "nbconvert_exporter": "python",
   "pygments_lexer": "ipython3",
   "version": "3.8.8"
  }
 },
 "nbformat": 4,
 "nbformat_minor": 5
}
